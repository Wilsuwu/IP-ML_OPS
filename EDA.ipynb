{
 "cells": [
  {
   "cell_type": "code",
   "execution_count": 2,
   "metadata": {},
   "outputs": [],
   "source": [
    "#Librerias\n",
    "\n",
    "import numpy as np\n",
    "import pandas as pd\n"
   ]
  },
  {
   "cell_type": "code",
   "execution_count": 11,
   "metadata": {},
   "outputs": [],
   "source": [
    "#Importamos el dataset original para el EDA\n",
    "df = pd.read_csv('movies_df.csv')"
   ]
  },
  {
   "cell_type": "code",
   "execution_count": 12,
   "metadata": {},
   "outputs": [],
   "source": [
    "#Dejamos solo las columnas relevantes para nuestro modelo\n",
    "df = df[['title', 'overview', 'vote_average']]"
   ]
  },
  {
   "cell_type": "code",
   "execution_count": 13,
   "metadata": {},
   "outputs": [
    {
     "name": "stdout",
     "output_type": "stream",
     "text": [
      "<class 'pandas.core.frame.DataFrame'>\n",
      "RangeIndex: 45463 entries, 0 to 45462\n",
      "Data columns (total 3 columns):\n",
      " #   Column        Non-Null Count  Dtype  \n",
      "---  ------        --------------  -----  \n",
      " 0   title         45460 non-null  object \n",
      " 1   overview      44509 non-null  object \n",
      " 2   vote_average  45460 non-null  float64\n",
      "dtypes: float64(1), object(2)\n",
      "memory usage: 1.0+ MB\n"
     ]
    }
   ],
   "source": [
    "df.info()"
   ]
  },
  {
   "cell_type": "code",
   "execution_count": 14,
   "metadata": {},
   "outputs": [],
   "source": [
    "# Reemplazar los valores \"ND\" por NaN\n",
    "df = df.replace('ND', np.nan)\n",
    "\n",
    "# Eliminar las filas con valores NaN\n",
    "df = df.dropna()"
   ]
  },
  {
   "cell_type": "code",
   "execution_count": 15,
   "metadata": {},
   "outputs": [
    {
     "name": "stdout",
     "output_type": "stream",
     "text": [
      "<class 'pandas.core.frame.DataFrame'>\n",
      "Int64Index: 44506 entries, 0 to 45462\n",
      "Data columns (total 3 columns):\n",
      " #   Column        Non-Null Count  Dtype  \n",
      "---  ------        --------------  -----  \n",
      " 0   title         44506 non-null  object \n",
      " 1   overview      44506 non-null  object \n",
      " 2   vote_average  44506 non-null  float64\n",
      "dtypes: float64(1), object(2)\n",
      "memory usage: 1.4+ MB\n"
     ]
    }
   ],
   "source": [
    "#Verificamos\n",
    "df.info()"
   ]
  },
  {
   "cell_type": "code",
   "execution_count": 16,
   "metadata": {},
   "outputs": [
    {
     "name": "stdout",
     "output_type": "stream",
     "text": [
      "<class 'pandas.core.frame.DataFrame'>\n",
      "Int64Index: 41371 entries, 0 to 45462\n",
      "Data columns (total 3 columns):\n",
      " #   Column        Non-Null Count  Dtype  \n",
      "---  ------        --------------  -----  \n",
      " 0   title         41371 non-null  object \n",
      " 1   overview      41371 non-null  object \n",
      " 2   vote_average  41371 non-null  float64\n",
      "dtypes: float64(1), object(2)\n",
      "memory usage: 1.3+ MB\n"
     ]
    }
   ],
   "source": [
    "#Quitamos los duplicados del dataset\n",
    "\n",
    "df.drop_duplicates(subset=['title'], inplace=True)\n",
    "\n",
    "df.info()"
   ]
  },
  {
   "cell_type": "code",
   "execution_count": 17,
   "metadata": {},
   "outputs": [
    {
     "name": "stdout",
     "output_type": "stream",
     "text": [
      "                            title  \\\n",
      "28393              The Time Being   \n",
      "44788     Confidential Assignment   \n",
      "3344                 Solar Crisis   \n",
      "1828                 Going My Way   \n",
      "16390           Countdown to Zero   \n",
      "...                           ...   \n",
      "26609                        Teza   \n",
      "21223            What's in a Name   \n",
      "33104        Naked Under the Moon   \n",
      "40826            Matchmaker Santa   \n",
      "37057  The Dark Side Of Chocolate   \n",
      "\n",
      "                                                overview  vote_average  \n",
      "28393  An artist meets a mysterious and wealthy benef...           4.9  \n",
      "44788  When a crime organization from North Korea cro...           6.2  \n",
      "3344   A huge solar flare is predicted to fry the Ear...           4.4  \n",
      "1828   Youthful Father Chuck O'Malley (Bing Crosby) l...           6.9  \n",
      "16390  A documentary about the escalating nuclear arm...           6.3  \n",
      "...                                                  ...           ...  \n",
      "26609  The Ethiopian intellectual Anberber returns to...           7.4  \n",
      "21223  Vincent, a wealthy real estate agent, is invit...           7.2  \n",
      "33104  A young woman recalls how her father (a fallen...           8.3  \n",
      "40826  As a little girl, Melanie Hogan (Lacey Chabert...           5.8  \n",
      "37057  A team of journalists investigate how human tr...           7.0  \n",
      "\n",
      "[8274 rows x 3 columns]\n"
     ]
    }
   ],
   "source": [
    "# Obtenemos una muestra aleatoria del 20% de los datos para optimizar la funcion con el hardware que tendremos disponible una vez deployado\n",
    "df = df.sample(frac=0.2, random_state=42)\n",
    "\n",
    "print(df)\n"
   ]
  },
  {
   "cell_type": "code",
   "execution_count": 18,
   "metadata": {},
   "outputs": [],
   "source": [
    "# Reseteamos el indice para no tener problemas más adelante\n",
    "\n",
    "df.reset_index(drop = True, inplace = True)"
   ]
  },
  {
   "cell_type": "code",
   "execution_count": 19,
   "metadata": {},
   "outputs": [
    {
     "data": {
      "text/html": [
       "<div>\n",
       "<style scoped>\n",
       "    .dataframe tbody tr th:only-of-type {\n",
       "        vertical-align: middle;\n",
       "    }\n",
       "\n",
       "    .dataframe tbody tr th {\n",
       "        vertical-align: top;\n",
       "    }\n",
       "\n",
       "    .dataframe thead th {\n",
       "        text-align: right;\n",
       "    }\n",
       "</style>\n",
       "<table border=\"1\" class=\"dataframe\">\n",
       "  <thead>\n",
       "    <tr style=\"text-align: right;\">\n",
       "      <th></th>\n",
       "      <th>title</th>\n",
       "      <th>overview</th>\n",
       "      <th>vote_average</th>\n",
       "    </tr>\n",
       "  </thead>\n",
       "  <tbody>\n",
       "    <tr>\n",
       "      <th>0</th>\n",
       "      <td>The Time Being</td>\n",
       "      <td>An artist meets a mysterious and wealthy benef...</td>\n",
       "      <td>4.9</td>\n",
       "    </tr>\n",
       "    <tr>\n",
       "      <th>1</th>\n",
       "      <td>Confidential Assignment</td>\n",
       "      <td>When a crime organization from North Korea cro...</td>\n",
       "      <td>6.2</td>\n",
       "    </tr>\n",
       "    <tr>\n",
       "      <th>2</th>\n",
       "      <td>Solar Crisis</td>\n",
       "      <td>A huge solar flare is predicted to fry the Ear...</td>\n",
       "      <td>4.4</td>\n",
       "    </tr>\n",
       "    <tr>\n",
       "      <th>3</th>\n",
       "      <td>Going My Way</td>\n",
       "      <td>Youthful Father Chuck O'Malley (Bing Crosby) l...</td>\n",
       "      <td>6.9</td>\n",
       "    </tr>\n",
       "    <tr>\n",
       "      <th>4</th>\n",
       "      <td>Countdown to Zero</td>\n",
       "      <td>A documentary about the escalating nuclear arm...</td>\n",
       "      <td>6.3</td>\n",
       "    </tr>\n",
       "    <tr>\n",
       "      <th>5</th>\n",
       "      <td>Street Trash</td>\n",
       "      <td>When a liquor store owner finds a case of \"Ten...</td>\n",
       "      <td>5.6</td>\n",
       "    </tr>\n",
       "    <tr>\n",
       "      <th>6</th>\n",
       "      <td>If You Are the One</td>\n",
       "      <td>Qin Fen, a funny, honest, single inventor, met...</td>\n",
       "      <td>6.5</td>\n",
       "    </tr>\n",
       "    <tr>\n",
       "      <th>7</th>\n",
       "      <td>Bloody Murder</td>\n",
       "      <td>Julie McConnell is one of a dozen camp counsel...</td>\n",
       "      <td>3.6</td>\n",
       "    </tr>\n",
       "    <tr>\n",
       "      <th>8</th>\n",
       "      <td>Comedy Central Roast of Larry the Cable Guy</td>\n",
       "      <td>Lisa Lampinelli hosts the Comedy Central Roast...</td>\n",
       "      <td>6.5</td>\n",
       "    </tr>\n",
       "    <tr>\n",
       "      <th>9</th>\n",
       "      <td>Baazi</td>\n",
       "      <td>Inspector Amar Damjee discovers a terrifying c...</td>\n",
       "      <td>7.5</td>\n",
       "    </tr>\n",
       "  </tbody>\n",
       "</table>\n",
       "</div>"
      ],
      "text/plain": [
       "                                         title  \\\n",
       "0                               The Time Being   \n",
       "1                      Confidential Assignment   \n",
       "2                                 Solar Crisis   \n",
       "3                                 Going My Way   \n",
       "4                            Countdown to Zero   \n",
       "5                                 Street Trash   \n",
       "6                           If You Are the One   \n",
       "7                                Bloody Murder   \n",
       "8  Comedy Central Roast of Larry the Cable Guy   \n",
       "9                                        Baazi   \n",
       "\n",
       "                                            overview  vote_average  \n",
       "0  An artist meets a mysterious and wealthy benef...           4.9  \n",
       "1  When a crime organization from North Korea cro...           6.2  \n",
       "2  A huge solar flare is predicted to fry the Ear...           4.4  \n",
       "3  Youthful Father Chuck O'Malley (Bing Crosby) l...           6.9  \n",
       "4  A documentary about the escalating nuclear arm...           6.3  \n",
       "5  When a liquor store owner finds a case of \"Ten...           5.6  \n",
       "6  Qin Fen, a funny, honest, single inventor, met...           6.5  \n",
       "7  Julie McConnell is one of a dozen camp counsel...           3.6  \n",
       "8  Lisa Lampinelli hosts the Comedy Central Roast...           6.5  \n",
       "9  Inspector Amar Damjee discovers a terrifying c...           7.5  "
      ]
     },
     "execution_count": 19,
     "metadata": {},
     "output_type": "execute_result"
    }
   ],
   "source": [
    "# De esta forma quedaria de momento\n",
    "df.head(10)"
   ]
  },
  {
   "cell_type": "code",
   "execution_count": 20,
   "metadata": {},
   "outputs": [
    {
     "name": "stdout",
     "output_type": "stream",
     "text": [
      "                     title                                           overview  \\\n",
      "0           The Time Being  an artist meets a mysterious and wealthy benef...   \n",
      "1  Confidential Assignment  when a crime organization from north korea cro...   \n",
      "2             Solar Crisis  a huge solar flare is predicted to fry the ear...   \n",
      "3             Going My Way  youthful father chuck o'malley (bing crosby) l...   \n",
      "4        Countdown to Zero  a documentary about the escalating nuclear arm...   \n",
      "\n",
      "   vote_average  \n",
      "0           4.9  \n",
      "1           6.2  \n",
      "2           4.4  \n",
      "3           6.9  \n",
      "4           6.3  \n"
     ]
    }
   ],
   "source": [
    "# pasamos todas las letras a minúsculas en la columna \"overview\" para poder procesar su texto\n",
    "df['overview'] = df['overview'].str.lower()\n",
    "\n",
    "# Muestra los primeros 5 registros para verificar los cambios\n",
    "print(df.head())\n"
   ]
  },
  {
   "cell_type": "code",
   "execution_count": 21,
   "metadata": {},
   "outputs": [
    {
     "name": "stderr",
     "output_type": "stream",
     "text": [
      "[nltk_data] Downloading package punkt to\n",
      "[nltk_data]     C:\\Users\\waiga\\AppData\\Roaming\\nltk_data...\n",
      "[nltk_data]   Package punkt is already up-to-date!\n",
      "[nltk_data] Downloading package stopwords to\n",
      "[nltk_data]     C:\\Users\\waiga\\AppData\\Roaming\\nltk_data...\n",
      "[nltk_data]   Package stopwords is already up-to-date!\n",
      "[nltk_data] Downloading package wordnet to\n",
      "[nltk_data]     C:\\Users\\waiga\\AppData\\Roaming\\nltk_data...\n",
      "[nltk_data]   Package wordnet is already up-to-date!\n"
     ]
    },
    {
     "data": {
      "text/plain": [
       "True"
      ]
     },
     "execution_count": 21,
     "metadata": {},
     "output_type": "execute_result"
    }
   ],
   "source": [
    "# Procesamiento del lenguaje con NLTK\n",
    "#!pip install nltk\n",
    "import nltk\n",
    "\n",
    "nltk.download('punkt')\n",
    "nltk.download('stopwords')\n",
    "nltk.download('wordnet')"
   ]
  },
  {
   "cell_type": "code",
   "execution_count": 22,
   "metadata": {},
   "outputs": [],
   "source": [
    "from nltk.tokenize import word_tokenize\n",
    "from nltk.corpus import stopwords\n",
    "from nltk.stem import WordNetLemmatizer\n",
    "\n",
    "#Creamos una funcion para procesar el texto\n",
    "def process_text(text):\n",
    "    # Tokenización\n",
    "    tokens = word_tokenize(text)\n",
    "    \n",
    "    # Conversión a minúsculas\n",
    "    tokens = [token.lower() for token in tokens]\n",
    "    \n",
    "    # Eliminación de stopwords\n",
    "    stop_words = set(stopwords.words('english'))\n",
    "    tokens = [token for token in tokens if token not in stop_words]\n",
    "    \n",
    "    # Lematización\n",
    "    lemmatizer = WordNetLemmatizer()\n",
    "    tokens = [lemmatizer.lemmatize(token) for token in tokens]\n",
    "    \n",
    "    # Unimos los tokens procesados en un solo texto\n",
    "    processed_text = ' '.join(tokens)\n",
    "    \n",
    "    return processed_text"
   ]
  },
  {
   "cell_type": "code",
   "execution_count": 23,
   "metadata": {},
   "outputs": [],
   "source": [
    "# Procesamos el texto\n",
    "df['processed_overview'] = df['overview'].apply(process_text)"
   ]
  },
  {
   "cell_type": "code",
   "execution_count": 25,
   "metadata": {},
   "outputs": [
    {
     "data": {
      "text/html": [
       "<div>\n",
       "<style scoped>\n",
       "    .dataframe tbody tr th:only-of-type {\n",
       "        vertical-align: middle;\n",
       "    }\n",
       "\n",
       "    .dataframe tbody tr th {\n",
       "        vertical-align: top;\n",
       "    }\n",
       "\n",
       "    .dataframe thead th {\n",
       "        text-align: right;\n",
       "    }\n",
       "</style>\n",
       "<table border=\"1\" class=\"dataframe\">\n",
       "  <thead>\n",
       "    <tr style=\"text-align: right;\">\n",
       "      <th></th>\n",
       "      <th>title</th>\n",
       "      <th>overview</th>\n",
       "      <th>vote_average</th>\n",
       "      <th>processed_overview</th>\n",
       "    </tr>\n",
       "  </thead>\n",
       "  <tbody>\n",
       "    <tr>\n",
       "      <th>0</th>\n",
       "      <td>The Time Being</td>\n",
       "      <td>an artist meets a mysterious and wealthy benef...</td>\n",
       "      <td>4.9</td>\n",
       "      <td>artist meet mysterious wealthy benefactor rela...</td>\n",
       "    </tr>\n",
       "    <tr>\n",
       "      <th>1</th>\n",
       "      <td>Confidential Assignment</td>\n",
       "      <td>when a crime organization from north korea cro...</td>\n",
       "      <td>6.2</td>\n",
       "      <td>crime organization north korea cross border en...</td>\n",
       "    </tr>\n",
       "    <tr>\n",
       "      <th>2</th>\n",
       "      <td>Solar Crisis</td>\n",
       "      <td>a huge solar flare is predicted to fry the ear...</td>\n",
       "      <td>4.4</td>\n",
       "      <td>huge solar flare predicted fry earth . astrona...</td>\n",
       "    </tr>\n",
       "    <tr>\n",
       "      <th>3</th>\n",
       "      <td>Going My Way</td>\n",
       "      <td>youthful father chuck o'malley (bing crosby) l...</td>\n",
       "      <td>6.9</td>\n",
       "      <td>youthful father chuck o'malley ( bing crosby )...</td>\n",
       "    </tr>\n",
       "    <tr>\n",
       "      <th>4</th>\n",
       "      <td>Countdown to Zero</td>\n",
       "      <td>a documentary about the escalating nuclear arm...</td>\n",
       "      <td>6.3</td>\n",
       "      <td>documentary escalating nuclear arm race .</td>\n",
       "    </tr>\n",
       "    <tr>\n",
       "      <th>5</th>\n",
       "      <td>Street Trash</td>\n",
       "      <td>when a liquor store owner finds a case of \"ten...</td>\n",
       "      <td>5.6</td>\n",
       "      <td>liquor store owner find case `` tenafly viper ...</td>\n",
       "    </tr>\n",
       "    <tr>\n",
       "      <th>6</th>\n",
       "      <td>If You Are the One</td>\n",
       "      <td>qin fen, a funny, honest, single inventor, met...</td>\n",
       "      <td>6.5</td>\n",
       "      <td>qin fen , funny , honest , single inventor , m...</td>\n",
       "    </tr>\n",
       "    <tr>\n",
       "      <th>7</th>\n",
       "      <td>Bloody Murder</td>\n",
       "      <td>julie mcconnell is one of a dozen camp counsel...</td>\n",
       "      <td>3.6</td>\n",
       "      <td>julie mcconnell one dozen camp counselor worki...</td>\n",
       "    </tr>\n",
       "    <tr>\n",
       "      <th>8</th>\n",
       "      <td>Comedy Central Roast of Larry the Cable Guy</td>\n",
       "      <td>lisa lampinelli hosts the comedy central roast...</td>\n",
       "      <td>6.5</td>\n",
       "      <td>lisa lampinelli host comedy central roast larr...</td>\n",
       "    </tr>\n",
       "    <tr>\n",
       "      <th>9</th>\n",
       "      <td>Baazi</td>\n",
       "      <td>inspector amar damjee discovers a terrifying c...</td>\n",
       "      <td>7.5</td>\n",
       "      <td>inspector amar damjee discovers terrifying cri...</td>\n",
       "    </tr>\n",
       "  </tbody>\n",
       "</table>\n",
       "</div>"
      ],
      "text/plain": [
       "                                         title  \\\n",
       "0                               The Time Being   \n",
       "1                      Confidential Assignment   \n",
       "2                                 Solar Crisis   \n",
       "3                                 Going My Way   \n",
       "4                            Countdown to Zero   \n",
       "5                                 Street Trash   \n",
       "6                           If You Are the One   \n",
       "7                                Bloody Murder   \n",
       "8  Comedy Central Roast of Larry the Cable Guy   \n",
       "9                                        Baazi   \n",
       "\n",
       "                                            overview  vote_average  \\\n",
       "0  an artist meets a mysterious and wealthy benef...           4.9   \n",
       "1  when a crime organization from north korea cro...           6.2   \n",
       "2  a huge solar flare is predicted to fry the ear...           4.4   \n",
       "3  youthful father chuck o'malley (bing crosby) l...           6.9   \n",
       "4  a documentary about the escalating nuclear arm...           6.3   \n",
       "5  when a liquor store owner finds a case of \"ten...           5.6   \n",
       "6  qin fen, a funny, honest, single inventor, met...           6.5   \n",
       "7  julie mcconnell is one of a dozen camp counsel...           3.6   \n",
       "8  lisa lampinelli hosts the comedy central roast...           6.5   \n",
       "9  inspector amar damjee discovers a terrifying c...           7.5   \n",
       "\n",
       "                                  processed_overview  \n",
       "0  artist meet mysterious wealthy benefactor rela...  \n",
       "1  crime organization north korea cross border en...  \n",
       "2  huge solar flare predicted fry earth . astrona...  \n",
       "3  youthful father chuck o'malley ( bing crosby )...  \n",
       "4          documentary escalating nuclear arm race .  \n",
       "5  liquor store owner find case `` tenafly viper ...  \n",
       "6  qin fen , funny , honest , single inventor , m...  \n",
       "7  julie mcconnell one dozen camp counselor worki...  \n",
       "8  lisa lampinelli host comedy central roast larr...  \n",
       "9  inspector amar damjee discovers terrifying cri...  "
      ]
     },
     "execution_count": 25,
     "metadata": {},
     "output_type": "execute_result"
    }
   ],
   "source": [
    "#Nuestro df ahora tendra una columna más con el texto procesado\n",
    "df.head(10)"
   ]
  },
  {
   "cell_type": "code",
   "execution_count": null,
   "metadata": {},
   "outputs": [],
   "source": [
    "# Una vez procesado el texto quitamos la columna overview de nuestro dataset\n",
    "df = df.drop('overview', axis=1)\n",
    "\n",
    "# Exportamos a un .csv\n",
    "\n",
    "df.to_csv('movies_ML_sample10.csv')"
   ]
  }
 ],
 "metadata": {
  "kernelspec": {
   "display_name": "Python 3",
   "language": "python",
   "name": "python3"
  },
  "language_info": {
   "codemirror_mode": {
    "name": "ipython",
    "version": 3
   },
   "file_extension": ".py",
   "mimetype": "text/x-python",
   "name": "python",
   "nbconvert_exporter": "python",
   "pygments_lexer": "ipython3",
   "version": "3.10.5"
  },
  "orig_nbformat": 4
 },
 "nbformat": 4,
 "nbformat_minor": 2
}
